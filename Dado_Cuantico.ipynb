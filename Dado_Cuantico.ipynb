{
  "cells": [
    {
      "cell_type": "markdown",
      "source": [
        "### Dado Cuántico Interactivo (versión Jupyter Notebook)\n",
        "Este notebook implementa un dado cuántico utilizando Qiskit.\n",
        "\n",
        "El circuito utiliza 3 qubits en superposición, midiendo su colapso\n",
        "para obtener un número entre 1 y 6.\n",
        "\n",
        "Autor: Jhonatan Alejandro Solano Mendoza\n",
        "\n",
        "Estudiante de Matemáticas"
      ],
      "metadata": {
        "id": "uKFVV64Qo83W"
      },
      "id": "uKFVV64Qo83W"
    },
    {
      "cell_type": "code",
      "source": [
        "# ==============================\n",
        "# 🎲 DADO CUÁNTICO MULTIJUGADOR 🎲\n",
        "# Autor: Jhonatan Alejandro Solano Mendoza\n",
        "# ==============================\n",
        "\n",
        "from qiskit import QuantumCircuit, transpile\n",
        "from qiskit_aer import Aer\n",
        "import ipywidgets as widgets\n",
        "from IPython.display import display, clear_output\n",
        "import time\n",
        "\n",
        "# --- Diccionario con caras del dado en ASCII ---\n",
        "caras = {\n",
        "    1: [\"     \",\n",
        "        \"  ●  \",\n",
        "        \"     \"],\n",
        "    2: [\"●    \",\n",
        "        \"     \",\n",
        "        \"    ●\"],\n",
        "    3: [\"●    \",\n",
        "        \"  ●  \",\n",
        "        \"    ●\"],\n",
        "    4: [\"●   ●\",\n",
        "        \"     \",\n",
        "        \"●   ●\"],\n",
        "    5: [\"●   ●\",\n",
        "        \"  ●  \",\n",
        "        \"●   ●\"],\n",
        "    6: [\"●   ●\",\n",
        "        \"●   ●\",\n",
        "        \"●   ●\"],\n",
        "}\n",
        "\n",
        "# --- Función que simula un dado cuántico ---\n",
        "def dado_cuantico():\n",
        "    qc = QuantumCircuit(3, 3)                              # Crear circuito con 3 qubits y 3 bits clásicos\n",
        "    qc.h([0, 1, 2])                                        # Aplicar puertas Hadamard a los 3 qubits para crear superposición\n",
        "    qc.measure([0, 1, 2], [0, 1, 2])                       # Medir cada qubit en su respectivo bit clásico\n",
        "\n",
        "    sim = Aer.get_backend('qasm_simulator')                # Preparar simulador cuántico\n",
        "    compiled = transpile(qc, sim)                          # Transpilar circuito para el backend seleccionado\n",
        "\n",
        "    while True:                                            # Ejecutar varias veces hasta obtener un número < 6\n",
        "        job = sim.run(compiled, shots=1)\n",
        "        result = job.result()\n",
        "        bit_string = list(result.get_counts().keys())[0]\n",
        "        number = int(bit_string, 2)\n",
        "        if number < 6:\n",
        "            return number + 1, qc\n",
        "\n",
        "# --- Juego multijugador ---\n",
        "print(\"\\n==============================\")\n",
        "print(\"   🎲 DADO CUÁNTICO MULTIJUGADOR 🎲\")\n",
        "print(\"==============================\\n\")\n",
        "\n",
        "nombre_inputs = [widgets.Text(description=f\"Jugador {i+1}:\") for i in range(4)]\n",
        "boton_jugar = widgets.Button(description=\"🎲 Iniciar juego\", button_style=\"success\")\n",
        "salida = widgets.Output()\n",
        "\n",
        "# --- Lógica del juego ---\n",
        "def jugar(b):\n",
        "    with salida:\n",
        "        clear_output()\n",
        "        jugadores = [n.value.strip() or f\"Jugador{i+1}\" for i, n in enumerate(nombre_inputs)]\n",
        "        resultados = {}\n",
        "\n",
        "        for j in jugadores:                                         # Tirada del dado cuántico para cada jugador\n",
        "            numero, qc = dado_cuantico()\n",
        "            resultados[j] = numero\n",
        "            print(f\"\\n>>> Turno de {j}...\")\n",
        "            time.sleep(3)                                           # Suspenso de 3 segundo antes de mostrar el resultado\n",
        "\n",
        "            print(f\">>> {j} sacó un {numero}\")\n",
        "            print(\"\\n\".join(caras[numero]))\n",
        "\n",
        "        # --- Verificar si hay empate ---\n",
        "        print(\"\\n==============================\")\n",
        "        print(\" RESULTADOS FINALES \")\n",
        "        print(\"==============================\")\n",
        "        for j, n in resultados.items():\n",
        "            print(f\"{j:<12} | {n}\")\n",
        "\n",
        "        maximo = max(resultados.values())\n",
        "        empatados = [j for j, n in resultados.items() if n == maximo]\n",
        "\n",
        "        if len(empatados) == 1:\n",
        "            ganador = empatados[0]\n",
        "            print(f\"\\n🏆 El ganador es {ganador} con un {maximo} 🏆\")\n",
        "        else:\n",
        "            print(f\"\\n⚡ Empate entre: {', '.join(empatados)} con {maximo}\")\n",
        "            print(\"Iniciando ronda de DESEMPATE cuántico...\\n\")\n",
        "\n",
        "            while len(empatados) > 1:                                # Bucle hasta que se rompa el empate\n",
        "                nuevos_resultados = {}\n",
        "                for j in empatados:\n",
        "                    numero, qc = dado_cuantico()\n",
        "                    nuevos_resultados[j] = numero\n",
        "                    print(f\">>> Desempate de {j}...\")\n",
        "                    time.sleep(3)                                    # Suspenso de 3 segundo antes de mostrar el resultado\n",
        "\n",
        "                    print(f\">>> {j} sacó {numero}\")\n",
        "                    print(\"\\n\".join(caras[numero]))\n",
        "\n",
        "                maximo = max(nuevos_resultados.values())\n",
        "                empatados = [j for j, n in nuevos_resultados.items() if n == maximo]\n",
        "\n",
        "                if len(empatados) == 1:\n",
        "                    ganador = empatados[0]\n",
        "                    print(f\"\\n🏆 El ganador definitivo es {ganador} con un {maximo} 🏆\")\n",
        "                    break\n",
        "                else:\n",
        "                    print(f\"\\n⚡ Sigue el empate entre: {', '.join(empatados)}\")\n",
        "                    print(\"¡Otra ronda de desempate!\\n\")\n",
        "\n",
        "        print(\"\\nNota: El resultado viene de un estado cuántico en superposición.\\n\"\n",
        "              \"Cada qubit estaba en 0 y 1 al mismo tiempo, y al medir colapsó\\n\"\n",
        "              \"a un número aleatorio entre 1 y 6.\\n\")\n",
        "\n",
        "# --- Conectar evento ---\n",
        "boton_jugar.on_click(jugar)\n",
        "\n",
        "# --- Mostrar interfaz ---\n",
        "display(*nombre_inputs, boton_jugar, salida)"
      ],
      "metadata": {
        "colab": {
          "base_uri": "https://localhost:8080/",
          "height": 1000,
          "referenced_widgets": [
            "7841843fe1d94152ab01f53919d8edfe",
            "ae495cee527f4a29aef508c0e5b8daba",
            "75c2495c5ae3454bab50ee0d49f2efec",
            "a881aa1234e543e18f56a4ab2cf3a1b5",
            "34493eaa04564214823bb850e40c8feb",
            "3c052875729249eb872567e8f96324f4",
            "ebe5756af51e4142984bf3d1e6a6d8c4",
            "94e2341604184d63bd53d902417d04d2",
            "5ce98c8626db41e2add028c2c1a81263",
            "4160ad3aab644748a0b2e5c29fd0f637",
            "f6f9d2c0d98a4e35980d84b2887c4a93",
            "150ac6eb747645319bded66f86addde9",
            "70329749b2fa4be1af22eeadb99a4103",
            "842b33e15661434389993998e382fd4c",
            "cfaf43394cf74244b2fe129359c13383",
            "8f4828417e4c41e89770bbbb8eca11c3",
            "9761f94d07f74470a57258c89a1ee40a"
          ]
        },
        "id": "RI5juZdkpBpx",
        "outputId": "8db4eb64-a727-47e4-8ae8-1a42e3f283b7"
      },
      "id": "RI5juZdkpBpx",
      "execution_count": 42,
      "outputs": [
        {
          "output_type": "stream",
          "name": "stdout",
          "text": [
            "\n",
            "==============================\n",
            "   🎲 DADO CUÁNTICO MULTIJUGADOR 🎲\n",
            "==============================\n",
            "\n"
          ]
        },
        {
          "output_type": "display_data",
          "data": {
            "text/plain": [
              "Text(value='', description='Jugador 1:')"
            ],
            "application/vnd.jupyter.widget-view+json": {
              "version_major": 2,
              "version_minor": 0,
              "model_id": "7841843fe1d94152ab01f53919d8edfe"
            }
          },
          "metadata": {}
        },
        {
          "output_type": "display_data",
          "data": {
            "text/plain": [
              "Text(value='', description='Jugador 2:')"
            ],
            "application/vnd.jupyter.widget-view+json": {
              "version_major": 2,
              "version_minor": 0,
              "model_id": "a881aa1234e543e18f56a4ab2cf3a1b5"
            }
          },
          "metadata": {}
        },
        {
          "output_type": "display_data",
          "data": {
            "text/plain": [
              "Text(value='', description='Jugador 3:')"
            ],
            "application/vnd.jupyter.widget-view+json": {
              "version_major": 2,
              "version_minor": 0,
              "model_id": "ebe5756af51e4142984bf3d1e6a6d8c4"
            }
          },
          "metadata": {}
        },
        {
          "output_type": "display_data",
          "data": {
            "text/plain": [
              "Text(value='', description='Jugador 4:')"
            ],
            "application/vnd.jupyter.widget-view+json": {
              "version_major": 2,
              "version_minor": 0,
              "model_id": "4160ad3aab644748a0b2e5c29fd0f637"
            }
          },
          "metadata": {}
        },
        {
          "output_type": "display_data",
          "data": {
            "text/plain": [
              "Button(button_style='success', description='🎲 Iniciar juego', style=ButtonStyle())"
            ],
            "application/vnd.jupyter.widget-view+json": {
              "version_major": 2,
              "version_minor": 0,
              "model_id": "70329749b2fa4be1af22eeadb99a4103"
            }
          },
          "metadata": {}
        },
        {
          "output_type": "display_data",
          "data": {
            "text/plain": [
              "Output()"
            ],
            "application/vnd.jupyter.widget-view+json": {
              "version_major": 2,
              "version_minor": 0,
              "model_id": "8f4828417e4c41e89770bbbb8eca11c3"
            }
          },
          "metadata": {}
        }
      ]
    }
  ],
  "metadata": {
    "kernelspec": {
      "display_name": "Python 3",
      "language": "python",
      "name": "python3"
    },
    "language_info": {
      "name": "python"
    },
    "colab": {
      "provenance": []
    },
    "widgets": {
      "application/vnd.jupyter.widget-state+json": {
        "7841843fe1d94152ab01f53919d8edfe": {
          "model_module": "@jupyter-widgets/controls",
          "model_name": "TextModel",
          "model_module_version": "1.5.0",
          "state": {
            "_dom_classes": [],
            "_model_module": "@jupyter-widgets/controls",
            "_model_module_version": "1.5.0",
            "_model_name": "TextModel",
            "_view_count": null,
            "_view_module": "@jupyter-widgets/controls",
            "_view_module_version": "1.5.0",
            "_view_name": "TextView",
            "continuous_update": true,
            "description": "Jugador 1:",
            "description_tooltip": null,
            "disabled": false,
            "layout": "IPY_MODEL_ae495cee527f4a29aef508c0e5b8daba",
            "placeholder": "​",
            "style": "IPY_MODEL_75c2495c5ae3454bab50ee0d49f2efec",
            "value": "ffe"
          }
        },
        "ae495cee527f4a29aef508c0e5b8daba": {
          "model_module": "@jupyter-widgets/base",
          "model_name": "LayoutModel",
          "model_module_version": "1.2.0",
          "state": {
            "_model_module": "@jupyter-widgets/base",
            "_model_module_version": "1.2.0",
            "_model_name": "LayoutModel",
            "_view_count": null,
            "_view_module": "@jupyter-widgets/base",
            "_view_module_version": "1.2.0",
            "_view_name": "LayoutView",
            "align_content": null,
            "align_items": null,
            "align_self": null,
            "border": null,
            "bottom": null,
            "display": null,
            "flex": null,
            "flex_flow": null,
            "grid_area": null,
            "grid_auto_columns": null,
            "grid_auto_flow": null,
            "grid_auto_rows": null,
            "grid_column": null,
            "grid_gap": null,
            "grid_row": null,
            "grid_template_areas": null,
            "grid_template_columns": null,
            "grid_template_rows": null,
            "height": null,
            "justify_content": null,
            "justify_items": null,
            "left": null,
            "margin": null,
            "max_height": null,
            "max_width": null,
            "min_height": null,
            "min_width": null,
            "object_fit": null,
            "object_position": null,
            "order": null,
            "overflow": null,
            "overflow_x": null,
            "overflow_y": null,
            "padding": null,
            "right": null,
            "top": null,
            "visibility": null,
            "width": null
          }
        },
        "75c2495c5ae3454bab50ee0d49f2efec": {
          "model_module": "@jupyter-widgets/controls",
          "model_name": "DescriptionStyleModel",
          "model_module_version": "1.5.0",
          "state": {
            "_model_module": "@jupyter-widgets/controls",
            "_model_module_version": "1.5.0",
            "_model_name": "DescriptionStyleModel",
            "_view_count": null,
            "_view_module": "@jupyter-widgets/base",
            "_view_module_version": "1.2.0",
            "_view_name": "StyleView",
            "description_width": ""
          }
        },
        "a881aa1234e543e18f56a4ab2cf3a1b5": {
          "model_module": "@jupyter-widgets/controls",
          "model_name": "TextModel",
          "model_module_version": "1.5.0",
          "state": {
            "_dom_classes": [],
            "_model_module": "@jupyter-widgets/controls",
            "_model_module_version": "1.5.0",
            "_model_name": "TextModel",
            "_view_count": null,
            "_view_module": "@jupyter-widgets/controls",
            "_view_module_version": "1.5.0",
            "_view_name": "TextView",
            "continuous_update": true,
            "description": "Jugador 2:",
            "description_tooltip": null,
            "disabled": false,
            "layout": "IPY_MODEL_34493eaa04564214823bb850e40c8feb",
            "placeholder": "​",
            "style": "IPY_MODEL_3c052875729249eb872567e8f96324f4",
            "value": "efw"
          }
        },
        "34493eaa04564214823bb850e40c8feb": {
          "model_module": "@jupyter-widgets/base",
          "model_name": "LayoutModel",
          "model_module_version": "1.2.0",
          "state": {
            "_model_module": "@jupyter-widgets/base",
            "_model_module_version": "1.2.0",
            "_model_name": "LayoutModel",
            "_view_count": null,
            "_view_module": "@jupyter-widgets/base",
            "_view_module_version": "1.2.0",
            "_view_name": "LayoutView",
            "align_content": null,
            "align_items": null,
            "align_self": null,
            "border": null,
            "bottom": null,
            "display": null,
            "flex": null,
            "flex_flow": null,
            "grid_area": null,
            "grid_auto_columns": null,
            "grid_auto_flow": null,
            "grid_auto_rows": null,
            "grid_column": null,
            "grid_gap": null,
            "grid_row": null,
            "grid_template_areas": null,
            "grid_template_columns": null,
            "grid_template_rows": null,
            "height": null,
            "justify_content": null,
            "justify_items": null,
            "left": null,
            "margin": null,
            "max_height": null,
            "max_width": null,
            "min_height": null,
            "min_width": null,
            "object_fit": null,
            "object_position": null,
            "order": null,
            "overflow": null,
            "overflow_x": null,
            "overflow_y": null,
            "padding": null,
            "right": null,
            "top": null,
            "visibility": null,
            "width": null
          }
        },
        "3c052875729249eb872567e8f96324f4": {
          "model_module": "@jupyter-widgets/controls",
          "model_name": "DescriptionStyleModel",
          "model_module_version": "1.5.0",
          "state": {
            "_model_module": "@jupyter-widgets/controls",
            "_model_module_version": "1.5.0",
            "_model_name": "DescriptionStyleModel",
            "_view_count": null,
            "_view_module": "@jupyter-widgets/base",
            "_view_module_version": "1.2.0",
            "_view_name": "StyleView",
            "description_width": ""
          }
        },
        "ebe5756af51e4142984bf3d1e6a6d8c4": {
          "model_module": "@jupyter-widgets/controls",
          "model_name": "TextModel",
          "model_module_version": "1.5.0",
          "state": {
            "_dom_classes": [],
            "_model_module": "@jupyter-widgets/controls",
            "_model_module_version": "1.5.0",
            "_model_name": "TextModel",
            "_view_count": null,
            "_view_module": "@jupyter-widgets/controls",
            "_view_module_version": "1.5.0",
            "_view_name": "TextView",
            "continuous_update": true,
            "description": "Jugador 3:",
            "description_tooltip": null,
            "disabled": false,
            "layout": "IPY_MODEL_94e2341604184d63bd53d902417d04d2",
            "placeholder": "​",
            "style": "IPY_MODEL_5ce98c8626db41e2add028c2c1a81263",
            "value": "f"
          }
        },
        "94e2341604184d63bd53d902417d04d2": {
          "model_module": "@jupyter-widgets/base",
          "model_name": "LayoutModel",
          "model_module_version": "1.2.0",
          "state": {
            "_model_module": "@jupyter-widgets/base",
            "_model_module_version": "1.2.0",
            "_model_name": "LayoutModel",
            "_view_count": null,
            "_view_module": "@jupyter-widgets/base",
            "_view_module_version": "1.2.0",
            "_view_name": "LayoutView",
            "align_content": null,
            "align_items": null,
            "align_self": null,
            "border": null,
            "bottom": null,
            "display": null,
            "flex": null,
            "flex_flow": null,
            "grid_area": null,
            "grid_auto_columns": null,
            "grid_auto_flow": null,
            "grid_auto_rows": null,
            "grid_column": null,
            "grid_gap": null,
            "grid_row": null,
            "grid_template_areas": null,
            "grid_template_columns": null,
            "grid_template_rows": null,
            "height": null,
            "justify_content": null,
            "justify_items": null,
            "left": null,
            "margin": null,
            "max_height": null,
            "max_width": null,
            "min_height": null,
            "min_width": null,
            "object_fit": null,
            "object_position": null,
            "order": null,
            "overflow": null,
            "overflow_x": null,
            "overflow_y": null,
            "padding": null,
            "right": null,
            "top": null,
            "visibility": null,
            "width": null
          }
        },
        "5ce98c8626db41e2add028c2c1a81263": {
          "model_module": "@jupyter-widgets/controls",
          "model_name": "DescriptionStyleModel",
          "model_module_version": "1.5.0",
          "state": {
            "_model_module": "@jupyter-widgets/controls",
            "_model_module_version": "1.5.0",
            "_model_name": "DescriptionStyleModel",
            "_view_count": null,
            "_view_module": "@jupyter-widgets/base",
            "_view_module_version": "1.2.0",
            "_view_name": "StyleView",
            "description_width": ""
          }
        },
        "4160ad3aab644748a0b2e5c29fd0f637": {
          "model_module": "@jupyter-widgets/controls",
          "model_name": "TextModel",
          "model_module_version": "1.5.0",
          "state": {
            "_dom_classes": [],
            "_model_module": "@jupyter-widgets/controls",
            "_model_module_version": "1.5.0",
            "_model_name": "TextModel",
            "_view_count": null,
            "_view_module": "@jupyter-widgets/controls",
            "_view_module_version": "1.5.0",
            "_view_name": "TextView",
            "continuous_update": true,
            "description": "Jugador 4:",
            "description_tooltip": null,
            "disabled": false,
            "layout": "IPY_MODEL_f6f9d2c0d98a4e35980d84b2887c4a93",
            "placeholder": "​",
            "style": "IPY_MODEL_150ac6eb747645319bded66f86addde9",
            "value": "g"
          }
        },
        "f6f9d2c0d98a4e35980d84b2887c4a93": {
          "model_module": "@jupyter-widgets/base",
          "model_name": "LayoutModel",
          "model_module_version": "1.2.0",
          "state": {
            "_model_module": "@jupyter-widgets/base",
            "_model_module_version": "1.2.0",
            "_model_name": "LayoutModel",
            "_view_count": null,
            "_view_module": "@jupyter-widgets/base",
            "_view_module_version": "1.2.0",
            "_view_name": "LayoutView",
            "align_content": null,
            "align_items": null,
            "align_self": null,
            "border": null,
            "bottom": null,
            "display": null,
            "flex": null,
            "flex_flow": null,
            "grid_area": null,
            "grid_auto_columns": null,
            "grid_auto_flow": null,
            "grid_auto_rows": null,
            "grid_column": null,
            "grid_gap": null,
            "grid_row": null,
            "grid_template_areas": null,
            "grid_template_columns": null,
            "grid_template_rows": null,
            "height": null,
            "justify_content": null,
            "justify_items": null,
            "left": null,
            "margin": null,
            "max_height": null,
            "max_width": null,
            "min_height": null,
            "min_width": null,
            "object_fit": null,
            "object_position": null,
            "order": null,
            "overflow": null,
            "overflow_x": null,
            "overflow_y": null,
            "padding": null,
            "right": null,
            "top": null,
            "visibility": null,
            "width": null
          }
        },
        "150ac6eb747645319bded66f86addde9": {
          "model_module": "@jupyter-widgets/controls",
          "model_name": "DescriptionStyleModel",
          "model_module_version": "1.5.0",
          "state": {
            "_model_module": "@jupyter-widgets/controls",
            "_model_module_version": "1.5.0",
            "_model_name": "DescriptionStyleModel",
            "_view_count": null,
            "_view_module": "@jupyter-widgets/base",
            "_view_module_version": "1.2.0",
            "_view_name": "StyleView",
            "description_width": ""
          }
        },
        "70329749b2fa4be1af22eeadb99a4103": {
          "model_module": "@jupyter-widgets/controls",
          "model_name": "ButtonModel",
          "model_module_version": "1.5.0",
          "state": {
            "_dom_classes": [],
            "_model_module": "@jupyter-widgets/controls",
            "_model_module_version": "1.5.0",
            "_model_name": "ButtonModel",
            "_view_count": null,
            "_view_module": "@jupyter-widgets/controls",
            "_view_module_version": "1.5.0",
            "_view_name": "ButtonView",
            "button_style": "success",
            "description": "🎲 Iniciar juego",
            "disabled": false,
            "icon": "",
            "layout": "IPY_MODEL_842b33e15661434389993998e382fd4c",
            "style": "IPY_MODEL_cfaf43394cf74244b2fe129359c13383",
            "tooltip": ""
          }
        },
        "842b33e15661434389993998e382fd4c": {
          "model_module": "@jupyter-widgets/base",
          "model_name": "LayoutModel",
          "model_module_version": "1.2.0",
          "state": {
            "_model_module": "@jupyter-widgets/base",
            "_model_module_version": "1.2.0",
            "_model_name": "LayoutModel",
            "_view_count": null,
            "_view_module": "@jupyter-widgets/base",
            "_view_module_version": "1.2.0",
            "_view_name": "LayoutView",
            "align_content": null,
            "align_items": null,
            "align_self": null,
            "border": null,
            "bottom": null,
            "display": null,
            "flex": null,
            "flex_flow": null,
            "grid_area": null,
            "grid_auto_columns": null,
            "grid_auto_flow": null,
            "grid_auto_rows": null,
            "grid_column": null,
            "grid_gap": null,
            "grid_row": null,
            "grid_template_areas": null,
            "grid_template_columns": null,
            "grid_template_rows": null,
            "height": null,
            "justify_content": null,
            "justify_items": null,
            "left": null,
            "margin": null,
            "max_height": null,
            "max_width": null,
            "min_height": null,
            "min_width": null,
            "object_fit": null,
            "object_position": null,
            "order": null,
            "overflow": null,
            "overflow_x": null,
            "overflow_y": null,
            "padding": null,
            "right": null,
            "top": null,
            "visibility": null,
            "width": null
          }
        },
        "cfaf43394cf74244b2fe129359c13383": {
          "model_module": "@jupyter-widgets/controls",
          "model_name": "ButtonStyleModel",
          "model_module_version": "1.5.0",
          "state": {
            "_model_module": "@jupyter-widgets/controls",
            "_model_module_version": "1.5.0",
            "_model_name": "ButtonStyleModel",
            "_view_count": null,
            "_view_module": "@jupyter-widgets/base",
            "_view_module_version": "1.2.0",
            "_view_name": "StyleView",
            "button_color": null,
            "font_weight": ""
          }
        },
        "8f4828417e4c41e89770bbbb8eca11c3": {
          "model_module": "@jupyter-widgets/output",
          "model_name": "OutputModel",
          "model_module_version": "1.0.0",
          "state": {
            "_dom_classes": [],
            "_model_module": "@jupyter-widgets/output",
            "_model_module_version": "1.0.0",
            "_model_name": "OutputModel",
            "_view_count": null,
            "_view_module": "@jupyter-widgets/output",
            "_view_module_version": "1.0.0",
            "_view_name": "OutputView",
            "layout": "IPY_MODEL_9761f94d07f74470a57258c89a1ee40a",
            "msg_id": "",
            "outputs": [
              {
                "output_type": "stream",
                "name": "stdout",
                "text": [
                  "\n",
                  ">>> Turno de ffe...\n"
                ]
              },
              {
                "output_type": "stream",
                "name": "stdout",
                "text": [
                  ">>> ffe sacó un 5\n",
                  "●   ●\n",
                  "  ●  \n",
                  "●   ●\n",
                  "\n",
                  ">>> Turno de efw...\n"
                ]
              },
              {
                "output_type": "stream",
                "name": "stdout",
                "text": [
                  ">>> efw sacó un 5\n",
                  "●   ●\n",
                  "  ●  \n",
                  "●   ●\n",
                  "\n",
                  ">>> Turno de f...\n"
                ]
              },
              {
                "output_type": "stream",
                "name": "stdout",
                "text": [
                  ">>> f sacó un 3\n",
                  "●    \n",
                  "  ●  \n",
                  "    ●\n",
                  "\n",
                  ">>> Turno de g...\n"
                ]
              },
              {
                "output_type": "stream",
                "name": "stdout",
                "text": [
                  ">>> g sacó un 5\n",
                  "●   ●\n",
                  "  ●  \n",
                  "●   ●\n",
                  "\n",
                  "==============================\n",
                  " RESULTADOS FINALES \n",
                  "==============================\n",
                  "ffe          | 5\n",
                  "efw          | 5\n",
                  "f            | 3\n",
                  "g            | 5\n",
                  "\n",
                  "⚡ Empate entre: ffe, efw, g con 5\n",
                  "Iniciando ronda de DESEMPATE cuántico...\n",
                  "\n",
                  ">>> Desempate de ffe...\n"
                ]
              },
              {
                "output_type": "stream",
                "name": "stdout",
                "text": [
                  ">>> ffe sacó 4\n",
                  "●   ●\n",
                  "     \n",
                  "●   ●\n",
                  ">>> Desempate de efw...\n"
                ]
              },
              {
                "output_type": "stream",
                "name": "stdout",
                "text": [
                  ">>> efw sacó 6\n",
                  "●   ●\n",
                  "●   ●\n",
                  "●   ●\n",
                  ">>> Desempate de g...\n"
                ]
              },
              {
                "output_type": "stream",
                "name": "stdout",
                "text": [
                  ">>> g sacó 2\n",
                  "●    \n",
                  "     \n",
                  "    ●\n",
                  "\n",
                  "🏆 El ganador definitivo es efw con un 6 🏆\n",
                  "\n",
                  "Nota: El resultado viene de un estado cuántico en superposición.\n",
                  "Cada qubit estaba en 0 y 1 al mismo tiempo, y al medir colapsó\n",
                  "a un número aleatorio entre 1 y 6.\n",
                  "\n"
                ]
              }
            ]
          }
        },
        "9761f94d07f74470a57258c89a1ee40a": {
          "model_module": "@jupyter-widgets/base",
          "model_name": "LayoutModel",
          "model_module_version": "1.2.0",
          "state": {
            "_model_module": "@jupyter-widgets/base",
            "_model_module_version": "1.2.0",
            "_model_name": "LayoutModel",
            "_view_count": null,
            "_view_module": "@jupyter-widgets/base",
            "_view_module_version": "1.2.0",
            "_view_name": "LayoutView",
            "align_content": null,
            "align_items": null,
            "align_self": null,
            "border": null,
            "bottom": null,
            "display": null,
            "flex": null,
            "flex_flow": null,
            "grid_area": null,
            "grid_auto_columns": null,
            "grid_auto_flow": null,
            "grid_auto_rows": null,
            "grid_column": null,
            "grid_gap": null,
            "grid_row": null,
            "grid_template_areas": null,
            "grid_template_columns": null,
            "grid_template_rows": null,
            "height": null,
            "justify_content": null,
            "justify_items": null,
            "left": null,
            "margin": null,
            "max_height": null,
            "max_width": null,
            "min_height": null,
            "min_width": null,
            "object_fit": null,
            "object_position": null,
            "order": null,
            "overflow": null,
            "overflow_x": null,
            "overflow_y": null,
            "padding": null,
            "right": null,
            "top": null,
            "visibility": null,
            "width": null
          }
        }
      }
    }
  },
  "nbformat": 4,
  "nbformat_minor": 5
}